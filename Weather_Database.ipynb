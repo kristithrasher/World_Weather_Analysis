{
 "cells": [
  {
   "cell_type": "code",
   "execution_count": 1,
   "id": "dd35ed6c",
   "metadata": {},
   "outputs": [],
   "source": [
    "# Deliverable 1 Retrieve Weather Data\n",
    "#and . In addition to the city weather data you gathered \n",
    "#in this module, use your API skills to retrieve the current weather description for each city. \n",
    "#Then, create a new DataFrame containing the updated weather data.\n",
    "# Import the dependencies.\n",
    "import pandas as pd\n",
    "import matplotlib.pyplot as plt\n",
    "import numpy as np\n",
    "import requests\n",
    "\n",
    "# Import the API key.\n",
    "from config import weather_api_key\n",
    "\n",
    "# Use the citipy module to determine city based on latitude and longitude.\n",
    "from citipy import citipy\n",
    "\n",
    "# Import the time library and the datetime module from the datetime library \n",
    "import time\n",
    "from datetime import datetime\n"
   ]
  },
  {
   "cell_type": "code",
   "execution_count": 2,
   "id": "d2c41437",
   "metadata": {},
   "outputs": [
    {
     "data": {
      "text/plain": [
       "<zip at 0x24376bfbbc8>"
      ]
     },
     "execution_count": 2,
     "metadata": {},
     "output_type": "execute_result"
    }
   ],
   "source": [
    "# Generate a set of 2,000 random latitudes and longitudes, \n",
    "lats = np.random.uniform(low=-90.000, high=90.000, size=50)\n",
    "lngs = np.random.uniform(low=-180.000, high=180.000, size=50)\n",
    "lat_lngs = zip(lats, lngs)\n",
    "lat_lngs"
   ]
  },
  {
   "cell_type": "code",
   "execution_count": 3,
   "id": "639372ee",
   "metadata": {},
   "outputs": [
    {
     "name": "stdout",
     "output_type": "stream",
     "text": [
      "[(-66.05057593444239, -63.10329537089295), (29.58181515158246, -138.35372652015323), (51.20872368845568, -170.88242456724782), (-6.609222913445507, 8.701785135749304), (-75.47663334529588, -139.50614135473535), (-45.10963383076209, 83.91730110818781), (38.852904070914406, 27.203598404015338), (80.11201529128346, -66.05088815367886), (-59.09881409596683, 30.581371376651504), (-88.475220924591, 150.93586090759607), (84.74955777231747, -54.55176065680644), (-28.82680776394291, 75.38761202860215), (69.29981073835322, -75.31259922768054), (-45.33893598253358, 139.84220044068837), (-58.129614142319355, 156.83350688991828), (67.92242097618555, -62.92849933675613), (-11.021401505098666, -55.61393406217027), (48.61034573982792, -25.210313375359988), (74.48297188916291, -114.6969059626756), (-62.97632808296805, 104.49171089300046), (-73.5352617414775, -99.59823796082762), (-36.574398008210345, 174.92112301041533), (-68.89412466595688, -138.42586672450454), (50.05605395036358, 110.1464983774984), (-13.068675161192147, -96.67935705889604), (-52.90658294374625, -165.8056764794888), (74.09629734475516, 36.83495039618836), (37.522267538016635, -57.83630235620019), (-3.1280896241502347, 179.136543116609), (-43.507868207236896, 116.42857723531205), (-28.904948336685045, 18.52836598567572), (-56.10983861141536, 5.075187161733709), (-27.602102980255914, -32.51021639084627), (72.45319202944188, 119.01676366892195), (60.94579821456384, 148.4409284437903), (-79.02717369322434, -159.71580453167516), (55.057635594339416, 17.310043956193937), (-67.4720463699351, -93.64085151199231), (60.002801011691616, -147.75673387845143), (-59.5457910540795, 23.197888437804323), (-0.7184051356543506, -146.0332384519416), (-70.73201968690961, 28.480597843524322), (-63.66883656811362, 36.15779444202332), (58.4819877143629, 89.45213861727387), (57.566075941233805, -92.10225036215466), (-39.6097730093035, 41.8783563063775), (26.107718515601746, 179.57068094526346), (-19.253418755676947, 170.58113732965592), (-57.273582852470874, 27.97426630791213), (-46.45449571148743, -149.58932048687768)]\n"
     ]
    }
   ],
   "source": [
    "# Add the latitudes and longitudes to a list.\n",
    "coordinates = list(lat_lngs)\n",
    "print(coordinates)"
   ]
  },
  {
   "cell_type": "code",
   "execution_count": 4,
   "id": "7dc9f65d",
   "metadata": {},
   "outputs": [
    {
     "data": {
      "text/plain": [
       "45"
      ]
     },
     "execution_count": 4,
     "metadata": {},
     "output_type": "execute_result"
    }
   ],
   "source": [
    "# retrieve the nearest city, \n",
    "# Create a list for holding the cities.\n",
    "cities = []\n",
    "\n",
    "# Identify the nearest city for each latitude and longitude combination.\n",
    "for coordinate in coordinates:\n",
    "    city = citipy.nearest_city(coordinate[0], coordinate[1]).city_name\n",
    "\n",
    "    # If the city is unique, then we will add it to the cities list.\n",
    "    if city not in cities:\n",
    "        cities.append(city)\n",
    "# Print the city count to confirm sufficient count.\n",
    "len(cities)\n"
   ]
  },
  {
   "cell_type": "code",
   "execution_count": 5,
   "id": "c76d56ff",
   "metadata": {},
   "outputs": [],
   "source": [
    "# Starting URL for Weather Map API Call.\n",
    "url = \"http://api.openweathermap.org/data/2.5/weather?units=Imperial&APPID=\" + weather_api_key"
   ]
  },
  {
   "cell_type": "code",
   "execution_count": 16,
   "id": "7d8fd5df",
   "metadata": {
    "scrolled": true
   },
   "outputs": [
    {
     "name": "stdout",
     "output_type": "stream",
     "text": [
      "Beginning Data Retrieval     \n",
      "-----------------------------\n",
      "Processing Record 1 of Set 1 | ushuaia\n",
      "Processing Record 2 of Set 1 | half moon bay\n",
      "Processing Record 3 of Set 1 | bethel\n",
      "Processing Record 4 of Set 1 | cabinda\n",
      "Processing Record 5 of Set 1 | rikitea\n",
      "Processing Record 6 of Set 1 | busselton\n",
      "Processing Record 7 of Set 1 | aliaga\n",
      "Processing Record 8 of Set 1 | narsaq\n",
      "Processing Record 9 of Set 1 | port elizabeth\n",
      "Processing Record 10 of Set 1 | bluff\n",
      "Processing Record 11 of Set 1 | upernavik\n",
      "Processing Record 12 of Set 1 | bambous virieux\n",
      "Processing Record 13 of Set 1 | clyde river\n",
      "Processing Record 14 of Set 1 | portland\n",
      "Processing Record 15 of Set 1 | tuatapere\n",
      "Processing Record 16 of Set 1 | pangnirtung\n",
      "Processing Record 17 of Set 1 | alta floresta\n",
      "Processing Record 18 of Set 1 | lagoa\n",
      "Processing Record 19 of Set 1 | yellowknife\n",
      "Processing Record 20 of Set 1 | albany\n",
      "Processing Record 21 of Set 1 | punta arenas\n",
      "Processing Record 22 of Set 1 | north shore\n",
      "Processing Record 23 of Set 1 | khilok\n",
      "Processing Record 24 of Set 1 | puerto ayora\n",
      "Processing Record 25 of Set 1 | avarua\n",
      "Processing Record 26 of Set 1 | tumannyy\n",
      "City not found. Skipping...\n",
      "Processing Record 27 of Set 1 | saint george\n",
      "Processing Record 28 of Set 1 | rungata\n",
      "City not found. Skipping...\n",
      "Processing Record 29 of Set 1 | warmbad\n",
      "Processing Record 30 of Set 1 | cape town\n",
      "Processing Record 31 of Set 1 | sao joao da barra\n",
      "Processing Record 32 of Set 1 | saskylakh\n",
      "Processing Record 33 of Set 1 | ust-omchug\n",
      "Processing Record 34 of Set 1 | mataura\n",
      "Processing Record 35 of Set 1 | ustka\n",
      "Processing Record 36 of Set 1 | palmer\n",
      "Processing Record 37 of Set 1 | bredasdorp\n",
      "Processing Record 38 of Set 1 | atuona\n",
      "Processing Record 39 of Set 1 | kruisfontein\n",
      "Processing Record 40 of Set 1 | port alfred\n",
      "Processing Record 41 of Set 1 | teguldet\n",
      "Processing Record 42 of Set 1 | thompson\n",
      "Processing Record 43 of Set 1 | margate\n",
      "Processing Record 44 of Set 1 | butaritari\n",
      "Processing Record 45 of Set 1 | isangel\n",
      "-----------------------------\n",
      "Data Retrieval Complete      \n",
      "-----------------------------\n"
     ]
    }
   ],
   "source": [
    "# Create an empty list to hold the weather data.\n",
    "city_data = []\n",
    "# Print the beginning of the logging.\n",
    "print(\"Beginning Data Retrieval     \")\n",
    "print(\"-----------------------------\")\n",
    "\n",
    "# Create counters.\n",
    "record_count = 1\n",
    "set_count = 1\n",
    "\n",
    "# Next, we need to iterate through our list of cities\n",
    "# and begin building the URL for each city, \n",
    "# Loop through all the cities in the list.\n",
    "for i, city in enumerate(cities):\n",
    "\n",
    "    # Group cities in sets of 50 for logging purposes.\n",
    "    if (i % 50 == 0 and i >= 50):\n",
    "        set_count += 1\n",
    "        record_count = 1\n",
    "        time.sleep(60)\n",
    "\n",
    "    # Create endpoint URL with each city.\n",
    "    city_url = url + \"&q=\" + city.replace(\" \",\"+\")\n",
    "\n",
    "    # Log the URL, record, and set numbers and the city.\n",
    "    print(f\"Processing Record {record_count} of Set {set_count} | {city}\")\n",
    "    # Add 1 to the record count.\n",
    "    record_count += 1\n",
    "    # Run an API request for each of the cities.\n",
    "    try:\n",
    "        # Parse the JSON and retrieve data.\n",
    "        city_weather = requests.get(city_url).json()\n",
    "        # Parse out the needed data.\n",
    "        city_lat = city_weather[\"coord\"][\"lat\"]\n",
    "        city_lng = city_weather[\"coord\"][\"lon\"]\n",
    "        city_max_temp = city_weather[\"main\"][\"temp_max\"]\n",
    "        city_humidity = city_weather[\"main\"][\"humidity\"]\n",
    "        city_clouds = city_weather[\"clouds\"][\"all\"]\n",
    "        city_wind = city_weather[\"wind\"][\"speed\"]\n",
    "        city_country = city_weather[\"sys\"][\"country\"]\n",
    "        #weather_description = city_weather[\"weather\"][\"description\"]\n",
    "        # Convert the date to ISO standard.\n",
    "        city_date = datetime.utcfromtimestamp(city_weather[\"dt\"]).strftime('%Y-%m-%d %H:%M:%S')\n",
    "        # Append the city information into city_data list.\n",
    "        city_data.append({\"City\": city.title(),\n",
    "                          \"Lat\": city_lat,\n",
    "                          \"Lng\": city_lng,\n",
    "                          \"Max Temp\": city_max_temp,\n",
    "                          \"Humidity\": city_humidity,\n",
    "                          \"Cloudiness\": city_clouds,\n",
    "                          \"Wind Speed\": city_wind,\n",
    "                          \"Country\": city_country,\n",
    "                          \"Date\": city_date\n",
    "                          })\n",
    "\n",
    "# If an error is experienced, skip the city.\n",
    "    except:\n",
    "        print(\"City not found. Skipping...\")\n",
    "        pass\n",
    "\n",
    "# Indicate that Data Loading is complete.\n",
    "print(\"-----------------------------\")\n",
    "print(\"Data Retrieval Complete      \")\n",
    "print(\"-----------------------------\")"
   ]
  },
  {
   "cell_type": "code",
   "execution_count": 17,
   "id": "722b5ac8",
   "metadata": {},
   "outputs": [
    {
     "data": {
      "text/html": [
       "<div>\n",
       "<style scoped>\n",
       "    .dataframe tbody tr th:only-of-type {\n",
       "        vertical-align: middle;\n",
       "    }\n",
       "\n",
       "    .dataframe tbody tr th {\n",
       "        vertical-align: top;\n",
       "    }\n",
       "\n",
       "    .dataframe thead th {\n",
       "        text-align: right;\n",
       "    }\n",
       "</style>\n",
       "<table border=\"1\" class=\"dataframe\">\n",
       "  <thead>\n",
       "    <tr style=\"text-align: right;\">\n",
       "      <th></th>\n",
       "      <th>City</th>\n",
       "      <th>Lat</th>\n",
       "      <th>Lng</th>\n",
       "      <th>Max Temp</th>\n",
       "      <th>Humidity</th>\n",
       "      <th>Cloudiness</th>\n",
       "      <th>Wind Speed</th>\n",
       "      <th>Country</th>\n",
       "      <th>Date</th>\n",
       "    </tr>\n",
       "  </thead>\n",
       "  <tbody>\n",
       "    <tr>\n",
       "      <th>0</th>\n",
       "      <td>Ushuaia</td>\n",
       "      <td>-54.8000</td>\n",
       "      <td>-68.3000</td>\n",
       "      <td>47.86</td>\n",
       "      <td>66</td>\n",
       "      <td>90</td>\n",
       "      <td>18.41</td>\n",
       "      <td>AR</td>\n",
       "      <td>2021-12-16 23:25:59</td>\n",
       "    </tr>\n",
       "    <tr>\n",
       "      <th>1</th>\n",
       "      <td>Half Moon Bay</td>\n",
       "      <td>37.4636</td>\n",
       "      <td>-122.4286</td>\n",
       "      <td>59.22</td>\n",
       "      <td>75</td>\n",
       "      <td>1</td>\n",
       "      <td>1.99</td>\n",
       "      <td>US</td>\n",
       "      <td>2021-12-16 23:27:17</td>\n",
       "    </tr>\n",
       "    <tr>\n",
       "      <th>2</th>\n",
       "      <td>Bethel</td>\n",
       "      <td>41.3712</td>\n",
       "      <td>-73.4140</td>\n",
       "      <td>58.01</td>\n",
       "      <td>61</td>\n",
       "      <td>100</td>\n",
       "      <td>1.99</td>\n",
       "      <td>US</td>\n",
       "      <td>2021-12-16 23:27:17</td>\n",
       "    </tr>\n",
       "    <tr>\n",
       "      <th>3</th>\n",
       "      <td>Cabinda</td>\n",
       "      <td>-5.5500</td>\n",
       "      <td>12.2000</td>\n",
       "      <td>75.11</td>\n",
       "      <td>96</td>\n",
       "      <td>100</td>\n",
       "      <td>9.86</td>\n",
       "      <td>AO</td>\n",
       "      <td>2021-12-16 23:27:17</td>\n",
       "    </tr>\n",
       "    <tr>\n",
       "      <th>4</th>\n",
       "      <td>Rikitea</td>\n",
       "      <td>-23.1203</td>\n",
       "      <td>-134.9692</td>\n",
       "      <td>75.74</td>\n",
       "      <td>74</td>\n",
       "      <td>77</td>\n",
       "      <td>16.26</td>\n",
       "      <td>PF</td>\n",
       "      <td>2021-12-16 23:26:00</td>\n",
       "    </tr>\n",
       "  </tbody>\n",
       "</table>\n",
       "</div>"
      ],
      "text/plain": [
       "            City      Lat       Lng  Max Temp  Humidity  Cloudiness  \\\n",
       "0        Ushuaia -54.8000  -68.3000     47.86        66          90   \n",
       "1  Half Moon Bay  37.4636 -122.4286     59.22        75           1   \n",
       "2         Bethel  41.3712  -73.4140     58.01        61         100   \n",
       "3        Cabinda  -5.5500   12.2000     75.11        96         100   \n",
       "4        Rikitea -23.1203 -134.9692     75.74        74          77   \n",
       "\n",
       "   Wind Speed Country                 Date  \n",
       "0       18.41      AR  2021-12-16 23:25:59  \n",
       "1        1.99      US  2021-12-16 23:27:17  \n",
       "2        1.99      US  2021-12-16 23:27:17  \n",
       "3        9.86      AO  2021-12-16 23:27:17  \n",
       "4       16.26      PF  2021-12-16 23:26:00  "
      ]
     },
     "execution_count": 17,
     "metadata": {},
     "output_type": "execute_result"
    }
   ],
   "source": [
    "city_data_df = pd.DataFrame(city_data)\n",
    "city_data_df.head()"
   ]
  },
  {
   "cell_type": "code",
   "execution_count": 13,
   "id": "b1ee9d20",
   "metadata": {},
   "outputs": [],
   "source": [
    "# Deliverable 2 Create a Customer Travel Destinations Map\n",
    "#Use input statements to retrieve customer weather preferences, then use those preferences to identify potential \n",
    "#travel destinations and nearby hotels. Then, show those destinations on a marker layer map with pop-up markers."
   ]
  },
  {
   "cell_type": "code",
   "execution_count": null,
   "id": "06fc6795",
   "metadata": {},
   "outputs": [],
   "source": []
  },
  {
   "cell_type": "code",
   "execution_count": null,
   "id": "3407df73",
   "metadata": {},
   "outputs": [],
   "source": []
  },
  {
   "cell_type": "code",
   "execution_count": null,
   "id": "c5877c38",
   "metadata": {},
   "outputs": [],
   "source": [
    "new_column_order = [\"City\",\"Country\", \"Lat\", \"Lng\", \"Max Temp\",\"Humidity\",\"Cloudiness\",\"Wind Speed\", \"Current Description\"]\n",
    "city_data_df = city_data_df[new_column_order]\n",
    "city_data_df.head()\n"
   ]
  },
  {
   "cell_type": "code",
   "execution_count": null,
   "id": "6750559c",
   "metadata": {},
   "outputs": [],
   "source": []
  },
  {
   "cell_type": "code",
   "execution_count": null,
   "id": "ac170c77",
   "metadata": {},
   "outputs": [],
   "source": []
  },
  {
   "cell_type": "code",
   "execution_count": null,
   "id": "954b3b48",
   "metadata": {},
   "outputs": [],
   "source": [
    "# Starter Code\n",
    "# Dependencies and Setup\n",
    "import pandas as pd\n",
    "import requests\n",
    "import gmaps\n",
    "\n",
    "# Import API key\n",
    "from config import g_key\n",
    "\n",
    "# Configure gmaps API key\n",
    "gmaps.configure(api_key=g_key)"
   ]
  },
  {
   "cell_type": "code",
   "execution_count": null,
   "id": "536b7621",
   "metadata": {},
   "outputs": [],
   "source": [
    "# 1. Import the WeatherPy_database.csv file. \n",
    "city_data_df = pd.read_csv(\"Weather_Database/WeatherPy_Database.csv\")\n",
    "city_data_df.head()"
   ]
  },
  {
   "cell_type": "code",
   "execution_count": null,
   "id": "5cbdadb8",
   "metadata": {},
   "outputs": [],
   "source": [
    "# 2. Prompt the user to enter minimum and maximum temperature criteria \n",
    "min_temp = float(input(\"What is the minimum temperature you want for your vacation?\"))\n",
    "max_temp = float(input(\"What is the maximum temperature you want for your vacation?\"))\n"
   ]
  },
  {
   "cell_type": "code",
   "execution_count": null,
   "id": "d940bcb4",
   "metadata": {},
   "outputs": [],
   "source": [
    "# 3. Filter the city_data_df DataFrame using the input statements to create a new DataFrame using the loc method.\n",
    "min_temp "
   ]
  },
  {
   "cell_type": "code",
   "execution_count": null,
   "id": "8f4e7586",
   "metadata": {},
   "outputs": [],
   "source": [
    "# 4b. Drop any empty rows and create a new DataFrame that doesn’t have empty rows."
   ]
  },
  {
   "cell_type": "code",
   "execution_count": null,
   "id": "829ac617",
   "metadata": {},
   "outputs": [],
   "source": [
    "# 5a. Create DataFrame called hotel_df to store hotel names along with city, country, max temp, and coordinates.\n",
    "hotel_df = clean_df[[\"City\", \"Country\", \"Lat\", \"Lng\", \"Max Temp\",  \"Humidity, \"Cloudiness\", \"Current Description\", ]].copy()\n",
    "\n",
    "# 5b. Create a new column \"Hotel Name\"\n",
    "hotel_df[\"Hotel Name\"] = \"\"\n",
    "hotel_df.head(10)"
   ]
  },
  {
   "cell_type": "code",
   "execution_count": null,
   "id": "c6c38898",
   "metadata": {},
   "outputs": [],
   "source": [
    "# 6a. Set parameters to search for hotels with 5000 meters.\n",
    "params = {\n",
    "    \"radius\": 5000,\n",
    "    \"type\": \"lodging\",\n",
    "    \"key\": g_key\n",
    "}\n",
    "\n",
    "# 6b. Iterate through the hotel DataFrame.\n",
    "\n",
    "    # 6c. Get latitude and longitude from DataFrame\n",
    "\n",
    "    \n",
    "    # 6d. Set up the base URL for the Google Directions API to get JSON data.\n",
    "    \n",
    "\n",
    "    # 6e. Make request and retrieve the JSON data from the search. \n",
    "   \n",
    "    \n",
    "    # 6f. Get the first hotel from the results and store the name, if a hotel isn't found skip the city.\n",
    "    \n",
    "        "
   ]
  },
  {
   "cell_type": "code",
   "execution_count": null,
   "id": "cb7d6305",
   "metadata": {},
   "outputs": [],
   "source": [
    "# 7. Drop the rows where there is no Hotel Name."
   ]
  },
  {
   "cell_type": "code",
   "execution_count": null,
   "id": "44c4e21f",
   "metadata": {},
   "outputs": [],
   "source": [
    "# 8a. Create the output File (CSV)\n",
    "\n",
    "# 8b. Export the City_Data into a csv\n",
    "clean_hotel_df.to_csv(output_data_file, index_label=\"City_ID\")"
   ]
  },
  {
   "cell_type": "code",
   "execution_count": null,
   "id": "23c489e5",
   "metadata": {},
   "outputs": [],
   "source": [
    "# 9. Using the template add city name, the country code, the weather description and maximum temperature for the city.\n",
    "info_box_template = \"\"\"\n",
    "\n",
    "\"\"\"\n",
    "\n",
    "# 10a. Get the data from each row and add it to the formatting template and store the data in a list.\n",
    "hotel_info = [info_box_template.format(**row) for index, row in clean_hotel_df.iterrows()]\n",
    "\n",
    "# 10b. Get the latitude and longitude from each row and store in a new DataFrame.\n",
    "locations = clean_hotel_df[[\"Lat\", \"Lng\"]]"
   ]
  },
  {
   "cell_type": "code",
   "execution_count": null,
   "id": "0240605a",
   "metadata": {},
   "outputs": [],
   "source": [
    "# 11a. Add a marker layer for each city to the map. "
   ]
  },
  {
   "cell_type": "code",
   "execution_count": null,
   "id": "2ece8f6c",
   "metadata": {},
   "outputs": [],
   "source": [
    "# 11b. Display the figure"
   ]
  },
  {
   "cell_type": "code",
   "execution_count": null,
   "id": "6bfdd30e",
   "metadata": {},
   "outputs": [],
   "source": []
  },
  {
   "cell_type": "code",
   "execution_count": null,
   "id": "ab1cff97",
   "metadata": {},
   "outputs": [],
   "source": []
  },
  {
   "cell_type": "code",
   "execution_count": null,
   "id": "3c72b88f",
   "metadata": {},
   "outputs": [],
   "source": []
  },
  {
   "cell_type": "code",
   "execution_count": null,
   "id": "e5084322",
   "metadata": {},
   "outputs": [],
   "source": [
    "# Deliverable 3 Create a Travel Itinerary Map\n",
    "#Use the Google Directions API to create a travel itinerary that shows the route between four \n",
    "#cities chosen from the customer’s possible travel destinations. #Then, create a marker layer map with a pop-up marker \n",
    "# for each city on the itinerary."
   ]
  },
  {
   "cell_type": "code",
   "execution_count": null,
   "id": "5e5ffc3f",
   "metadata": {},
   "outputs": [],
   "source": [
    "# Dependencies and Setup\n",
    "import pandas as pd\n",
    "import requests\n",
    "import gmaps\n",
    "\n",
    "# Import API key\n",
    "from config import g_key\n",
    "\n",
    "# Configure gmaps\n",
    "gmaps.configure(api_key=g_key)"
   ]
  },
  {
   "cell_type": "code",
   "execution_count": null,
   "id": "8c848850",
   "metadata": {},
   "outputs": [],
   "source": [
    "# 1. Read the WeatherPy_vacation.csv into a DataFrame.\n",
    "# vacation_df = pd.read_csv(\"Vacation_Search/WeatherPy_vacation.csv\")\n",
    "# vacation_df.head()"
   ]
  },
  {
   "cell_type": "code",
   "execution_count": null,
   "id": "a260b862",
   "metadata": {},
   "outputs": [],
   "source": [
    "# 2. Using the template add the city name, the country code, the weather description and maximum temperature for the city.\n",
    "info_box_template = \"\"\"\n",
    "\n",
    "\"\"\"\n",
    "\n",
    "# 3a. Get the data from each row and add it to the formatting template and store the data in a list.\n",
    "hotel_info = [info_box_template.format(**row) for index, row in clean_hotel_df.iterrows()]\n",
    "\n",
    "# 3b. Get the latitude and longitude from each row and store in a new DataFrame.\n",
    "locations = clean_hotel_df[[\"Lat\", \"Lng\"]]"
   ]
  },
  {
   "cell_type": "code",
   "execution_count": null,
   "id": "93fe51b5",
   "metadata": {},
   "outputs": [],
   "source": [
    "# 4a. Add a marker layer for each city to the map.\n",
    "\n",
    "# 4b. Display the figure\n",
    "\n"
   ]
  },
  {
   "cell_type": "code",
   "execution_count": null,
   "id": "7f143808",
   "metadata": {},
   "outputs": [],
   "source": [
    "# From the map above pick 4 cities and create a vacation itinerary route to travel between the four cities. \n",
    "# 5. Create DataFrames for each city by filtering the 'vacation_df' using the loc method. \n",
    "# Hint: The starting and ending city should be the same city.\n",
    "\n",
    "vacation_start = vacation_df.loc[]\n",
    "vacation_end = vacation_df.loc[]\n",
    "vacation_stop1 = vacation_df.loc[]\n",
    "vacation_stop2 = vacation_df.loc[] \n",
    "vacation_stop3 = vacation_df.loc[] "
   ]
  },
  {
   "cell_type": "code",
   "execution_count": null,
   "id": "48a16ae8",
   "metadata": {},
   "outputs": [],
   "source": [
    "# 6. Get the latitude-longitude pairs as tuples from each city DataFrame using the to_numpy function and list indexing.\n",
    "start = \n",
    "end = \n",
    "stop1 = \n",
    "stop2 = \n",
    "stop3 = "
   ]
  },
  {
   "cell_type": "code",
   "execution_count": null,
   "id": "1731ce25",
   "metadata": {},
   "outputs": [],
   "source": [
    "# 7. Create a direction layer map using the start and end latitude-longitude pairs,\n",
    "# and stop1, stop2, and stop3 as the waypoints. The travel_mode should be \"DRIVING\", \"BICYCLING\", or \"WALKING\".\n",
    "\n"
   ]
  },
  {
   "cell_type": "code",
   "execution_count": null,
   "id": "85644ccb",
   "metadata": {},
   "outputs": [],
   "source": [
    "# 8. To create a marker layer map between the four cities.\n",
    "#  Combine the four city DataFrames into one DataFrame using the concat() function.\n",
    "itinerary_df = pd.concat([],ignore_index=True)\n",
    "itinerary_df"
   ]
  },
  {
   "cell_type": "code",
   "execution_count": null,
   "id": "4060fa27",
   "metadata": {},
   "outputs": [],
   "source": [
    "# 9 Using the template add city name, the country code, the weather description and maximum temperature for the city. \n",
    "info_box_template = \"\"\"\n",
    "\n",
    "\"\"\"\n",
    "\n",
    "# 10a Get the data from each row and add it to the formatting template and store the data in a list.\n",
    "hotel_info = [info_box_template.format(**row) for index, row in itinerary_df.iterrows()]\n",
    "\n",
    "# 10b. Get the latitude and longitude from each row and store in a new DataFrame.\n",
    "locations = itinerary_df[[\"Lat\", \"Lng\"]]"
   ]
  },
  {
   "cell_type": "code",
   "execution_count": null,
   "id": "a6477bba",
   "metadata": {},
   "outputs": [],
   "source": [
    "# 11a. Add a marker layer for each city to the map.\n",
    "\n",
    "# 11b. Display the figure\n"
   ]
  },
  {
   "cell_type": "code",
   "execution_count": null,
   "id": "763a5a3b",
   "metadata": {},
   "outputs": [],
   "source": []
  },
  {
   "cell_type": "code",
   "execution_count": null,
   "id": "52f4ee1c",
   "metadata": {},
   "outputs": [],
   "source": []
  },
  {
   "cell_type": "code",
   "execution_count": null,
   "id": "7cfd3092",
   "metadata": {},
   "outputs": [],
   "source": []
  },
  {
   "cell_type": "code",
   "execution_count": null,
   "id": "56161190",
   "metadata": {},
   "outputs": [],
   "source": []
  },
  {
   "cell_type": "code",
   "execution_count": null,
   "id": "05c762bb",
   "metadata": {},
   "outputs": [],
   "source": []
  }
 ],
 "metadata": {
  "kernelspec": {
   "display_name": "PythonData",
   "language": "python",
   "name": "pythondata"
  },
  "language_info": {
   "codemirror_mode": {
    "name": "ipython",
    "version": 3
   },
   "file_extension": ".py",
   "mimetype": "text/x-python",
   "name": "python",
   "nbconvert_exporter": "python",
   "pygments_lexer": "ipython3",
   "version": "3.7.11"
  }
 },
 "nbformat": 4,
 "nbformat_minor": 5
}
