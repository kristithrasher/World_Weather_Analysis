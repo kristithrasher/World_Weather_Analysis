{
 "cells": [
  {
   "cell_type": "code",
   "execution_count": 11,
   "id": "5283c1f5",
   "metadata": {},
   "outputs": [],
   "source": [
    "#import the random module\n",
    "import random"
   ]
  },
  {
   "cell_type": "code",
   "execution_count": 12,
   "id": "a252fdef",
   "metadata": {},
   "outputs": [
    {
     "data": {
      "text/plain": [
       "-30"
      ]
     },
     "execution_count": 12,
     "metadata": {},
     "output_type": "execute_result"
    }
   ],
   "source": [
    "#randint produces integer number between -90 and 90 - numbers are past prime meridian on east which\n",
    "random.randint(-90, 90)\n"
   ]
  },
  {
   "cell_type": "code",
   "execution_count": 13,
   "id": "211fcb2d",
   "metadata": {},
   "outputs": [
    {
     "data": {
      "text/plain": [
       "0.35332508405844687"
      ]
     },
     "execution_count": 13,
     "metadata": {},
     "output_type": "execute_result"
    }
   ],
   "source": [
    "#Random(0 decimal number between 0 and 1.0 only)\n",
    "random.random()"
   ]
  },
  {
   "cell_type": "code",
   "execution_count": 15,
   "id": "449a647c",
   "metadata": {},
   "outputs": [
    {
     "name": "stdout",
     "output_type": "stream",
     "text": [
      "[69.98859693515077, 64.17497175355176, 84.62637606855972, -6.285867676761146, 29.52367959832074, 89.51921512052375, 22.979293705847862, 71.34776401736164, 25.163611776860414, -89.15663372208962]\n"
     ]
    }
   ],
   "source": [
    "#we can create and algorithm that will generate latitudes between -90 and 89. \n",
    "x = 1\n",
    "latitudes = [] # a list\n",
    "while x < 11: \n",
    "    random_lat = random.randint(-90, 89) + random.random()\n",
    "    latitudes.append(random_lat)\n",
    "    x += 1\n",
    "print(latitudes)    \n"
   ]
  },
  {
   "cell_type": "code",
   "execution_count": 16,
   "id": "d66122a2",
   "metadata": {},
   "outputs": [
    {
     "data": {
      "text/plain": [
       "49"
      ]
     },
     "execution_count": 16,
     "metadata": {},
     "output_type": "execute_result"
    }
   ],
   "source": [
    "# For the randrange() function, there is an option to add a step parameter \n",
    "random.randrange(-90, 90, step=1)"
   ]
  },
  {
   "cell_type": "code",
   "execution_count": 17,
   "id": "4801997c",
   "metadata": {},
   "outputs": [
    {
     "data": {
      "text/plain": [
       "-30.620239641327544"
      ]
     },
     "execution_count": 17,
     "metadata": {},
     "output_type": "execute_result"
    }
   ],
   "source": [
    "# uniform function will allow us to generate a floating - point decimal number \n",
    "random.uniform(-90, 90)"
   ]
  },
  {
   "cell_type": "code",
   "execution_count": 18,
   "id": "6b882510",
   "metadata": {},
   "outputs": [],
   "source": [
    "# Import the NumPy module.\n",
    "import numpy as np"
   ]
  },
  {
   "cell_type": "code",
   "execution_count": 19,
   "id": "79706b6a",
   "metadata": {},
   "outputs": [
    {
     "data": {
      "text/plain": [
       "-1.484579072429824"
      ]
     },
     "execution_count": 19,
     "metadata": {},
     "output_type": "execute_result"
    }
   ],
   "source": [
    "# The NumPy module has a built-in random module, \n",
    "np.random.uniform(-90.000, 90.000)"
   ]
  },
  {
   "cell_type": "code",
   "execution_count": 20,
   "id": "28b5c439",
   "metadata": {},
   "outputs": [
    {
     "data": {
      "text/plain": [
       "array([-40.10848935,  65.64005545,   5.51056483,  -2.86855541,\n",
       "       -81.21802454, -65.00587537,  74.83412967, -22.69327739,\n",
       "       -20.53635537, -64.47737486, -88.44187032, -22.48591784,\n",
       "        65.0309948 ,  36.10350545,  63.79511614,  -7.73847465,\n",
       "        41.81593948, -47.46181028,  61.35739727,  63.94964494,\n",
       "       -55.3281147 , -58.44952538, -87.95823563,   4.54247612,\n",
       "       -25.10484063, -66.59123587,  72.44937445, -71.00169711,\n",
       "        70.07351009,  24.71867   ,  54.08418111, -12.68567402,\n",
       "        16.5687161 ,  45.75449067,  -7.41952241,  48.63876551,\n",
       "       -47.87542104,  26.78456886, -59.56212063, -72.27640045,\n",
       "       -89.14725917,  58.2998597 , -35.59269498,  56.25258354,\n",
       "       -44.18489598, -53.13057968,  77.5696619 ,  12.81597135,\n",
       "        76.70990686,  66.170435  ])"
      ]
     },
     "execution_count": 20,
     "metadata": {},
     "output_type": "execute_result"
    }
   ],
   "source": [
    "# we can add the size parameter \n",
    "np.random.uniform(-90.000, 90.000, size=50)"
   ]
  },
  {
   "cell_type": "code",
   "execution_count": 21,
   "id": "98878108",
   "metadata": {},
   "outputs": [],
   "source": [
    "# Import timeit.\n",
    "import timeit"
   ]
  },
  {
   "cell_type": "code",
   "execution_count": 24,
   "id": "bf6bccd0",
   "metadata": {},
   "outputs": [
    {
     "name": "stdout",
     "output_type": "stream",
     "text": [
      "16.9 µs ± 1.18 µs per loop (mean ± std. dev. of 7 runs, 100000 loops each)\n"
     ]
    }
   ],
   "source": [
    "%timeit np.random.uniform(-90.000, 90.000, size=1500)"
   ]
  },
  {
   "cell_type": "code",
   "execution_count": 25,
   "id": "df90f419",
   "metadata": {},
   "outputs": [
    {
     "name": "stdout",
     "output_type": "stream",
     "text": [
      "2.41 ms ± 246 µs per loop (mean ± std. dev. of 7 runs, 100 loops each)\n"
     ]
    }
   ],
   "source": [
    "# While loop as a function to do the same thing\n",
    "\n",
    "def latitudes(size):\n",
    "    latitudes = []\n",
    "    x = 0\n",
    "    while x < (size):\n",
    "        random_lat = random.randint(-90, 90) + random.random()\n",
    "        latitudes.append(random_lat)\n",
    "        x += 1\n",
    "    return latitudes\n",
    "# Call the function with 1500.\n",
    "%timeit latitudes(1500)"
   ]
  },
  {
   "cell_type": "code",
   "execution_count": 28,
   "id": "307ea696",
   "metadata": {},
   "outputs": [
    {
     "name": "stdout",
     "output_type": "stream",
     "text": [
      "17.1 µs ± 764 ns per loop (mean ± std. dev. of 7 runs, 100000 loops each)\n"
     ]
    }
   ],
   "source": [
    "%timeit np.random.uniform(-90, 90, size=1500)"
   ]
  },
  {
   "cell_type": "code",
   "execution_count": null,
   "id": "9fbacfad",
   "metadata": {},
   "outputs": [],
   "source": []
  }
 ],
 "metadata": {
  "kernelspec": {
   "display_name": "PythonData",
   "language": "python",
   "name": "pythondata"
  },
  "language_info": {
   "codemirror_mode": {
    "name": "ipython",
    "version": 3
   },
   "file_extension": ".py",
   "mimetype": "text/x-python",
   "name": "python",
   "nbconvert_exporter": "python",
   "pygments_lexer": "ipython3",
   "version": "3.7.11"
  }
 },
 "nbformat": 4,
 "nbformat_minor": 5
}
